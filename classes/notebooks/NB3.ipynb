{
  "nbformat": 4,
  "nbformat_minor": 0,
  "metadata": {
    "colab": {
      "provenance": []
    },
    "kernelspec": {
      "name": "python3",
      "display_name": "Python 3"
    },
    "language_info": {
      "name": "python"
    }
  },
  "cells": [
    {
      "cell_type": "code",
      "execution_count": null,
      "metadata": {
        "id": "XMNd9z8dZjg4",
        "pycharm": {
          "name": "#%%\n"
        }
      },
      "outputs": [],
      "source": [
        "import imageio.v3 as iio\n",
        "import numpy as np\n",
        "import matplotlib.pyplot as plt\n",
        "%matplotlib inline"
      ]
    },
    {
      "cell_type": "code",
      "source": [
        "MAT_RGB2YIQ = np.array([[0.299, 0.587, 0.114],\n",
        "                        [0.596,-0.275,-0.321],\n",
        "                        [0.211,-0.523, 0.311]])\n",
        "\n",
        "def apply_matrix(img, M):\n",
        "    return np.matmul( img.reshape((-1,3)), M.T ).reshape(img.shape)"
      ],
      "metadata": {
        "id": "b0zzUNqTcCNL",
        "pycharm": {
          "name": "#%%\n"
        }
      },
      "execution_count": null,
      "outputs": []
    },
    {
      "cell_type": "markdown",
      "source": [
        "<font color='#ff4d00'>Ejercicio: Convertir una imagen al modelo de color YIQ y mostrar los canales por separado.\n",
        "\n",
        "</font>\n"
      ],
      "metadata": {
        "id": "aJeOJbXx2TBK"
      }
    },
    {
      "cell_type": "markdown",
      "source": [
        "<font color='#ff4d00'>Ejercicio: Abrir 2 imágenes y sumar las componentes de luminancia. ¿Qué habrá que ajustar?\n",
        "\n",
        "</font>"
      ],
      "metadata": {
        "id": "GogO8ZXI4pCg"
      }
    },
    {
      "cell_type": "markdown",
      "source": [
        "<font color='#ff4d00'>Ejercicio: Mostrar el histograma de luminancias de una imagen. Modificar sus valores interpretando el resultado.\n",
        "\n",
        "</font>"
      ],
      "metadata": {
        "id": "7MjmtHtc402E"
      }
    },
    {
      "cell_type": "markdown",
      "source": [
        "</font>\n",
        "\n",
        "\n"
      ],
      "metadata": {
        "id": "VPGgSyvk4rdb"
      }
    },
    {
      "cell_type": "code",
      "source": [],
      "metadata": {
        "id": "gX-ma0Q8bGK4",
        "pycharm": {
          "name": "#%%\n"
        }
      },
      "execution_count": null,
      "outputs": []
    },
    {
      "cell_type": "code",
      "source": [
        "canal_Y.flatten().shape"
      ],
      "metadata": {
        "id": "v9-Ek178dAZv",
        "pycharm": {
          "name": "#%%\n"
        }
      },
      "execution_count": null,
      "outputs": []
    },
    {
      "cell_type": "code",
      "source": [
        "plt.hist(canal_Y.flatten(), bins=50, range=(0,1))"
      ],
      "metadata": {
        "id": "zkc-Ew1GciUC",
        "pycharm": {
          "name": "#%%\n"
        }
      },
      "execution_count": null,
      "outputs": []
    },
    {
      "cell_type": "code",
      "source": [
        "# plt.imshow(canal_Y, 'gray')\n",
        "canal_Y_raiz = np.sqrt(canal_Y)\n",
        "canal_Y_cuad = canal_Y * canal_Y\n",
        "plt.imshow(canal_Y_cuad , 'gray')\n",
        "\n",
        "plt.hist(canal_Y_cuad.flatten(), bins=50, range=(0,1))"
      ],
      "metadata": {
        "id": "QfBLpHNziILN",
        "pycharm": {
          "name": "#%%\n"
        }
      },
      "execution_count": null,
      "outputs": []
    },
    {
      "cell_type": "code",
      "source": [],
      "metadata": {
        "id": "8Wb8AQp0fY6p",
        "pycharm": {
          "name": "#%%\n"
        }
      },
      "execution_count": null,
      "outputs": []
    }
  ]
}